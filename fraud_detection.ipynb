{
 "cells": [
  {
   "cell_type": "code",
   "execution_count": 1,
   "metadata": {},
   "outputs": [],
   "source": [
    "import pandas as pd\n",
    "import numpy as np\n",
    "import os\n",
    "import pickle\n",
    "from sklearn.model_selection import train_test_split , StratifiedKFold, cross_val_score\n",
    "from sklearn.preprocessing import StandardScaler\n",
    "from sklearn.linear_model import LogisticRegression\n",
    "from sklearn.metrics import confusion_matrix, classification_report, roc_auc_score, precision_recall_curve, auc\n",
    "from imblearn.over_sampling import SMOTE\n",
    "import matplotlib.pyplot as plt\n",
    "import seaborn as sns\n",
    "\n"
   ]
  },
  {
   "cell_type": "code",
   "execution_count": null,
   "metadata": {},
   "outputs": [],
   "source": [
    "# Load the datasets from pickle files\n",
    "def load_data(folder_path):\n",
    "    \"\"\"Loads all .pkl files from a folder into a list of DataFrames.\"\"\"\n",
    "    dataframes = []\n",
    "    for filename in os.listdir(folder_path):\n",
    "        if filename.endswith(\".pkl\"):\n",
    "            file_path = os.path.join(folder_path, filename)\n",
    "            try:\n",
    "                with open(file_path, 'rb') as f:\n",
    "                    df = pickle.load(f)\n",
    "                    dataframes.append(df)\n",
    "                    print(f\"Loaded: {filename}\")  \n",
    "            except Exception as e:\n",
    "                print(f\"Error loading {filename}: {e}\")\n",
    "    return dataframes\n"
   ]
  },
  {
   "cell_type": "code",
   "execution_count": 3,
   "metadata": {},
   "outputs": [],
   "source": [
    "data_folder = r\"C:\\Users\\ACER\\OneDrive\\Desktop\\Unifiedmentor\\fraud_detection\\fraud_detection\\dataset\\data\""
   ]
  },
  {
   "cell_type": "code",
   "execution_count": 4,
   "metadata": {},
   "outputs": [
    {
     "name": "stdout",
     "output_type": "stream",
     "text": [
      "Loaded: 2018-04-01.pkl\n",
      "Loaded: 2018-04-02.pkl\n",
      "Loaded: 2018-04-03.pkl\n",
      "Loaded: 2018-04-04.pkl\n",
      "Loaded: 2018-04-05.pkl\n",
      "Loaded: 2018-04-06.pkl\n",
      "Loaded: 2018-04-07.pkl\n",
      "Loaded: 2018-04-08.pkl\n",
      "Loaded: 2018-04-09.pkl\n",
      "Loaded: 2018-04-10.pkl\n",
      "Loaded: 2018-04-11.pkl\n",
      "Loaded: 2018-04-12.pkl\n",
      "Loaded: 2018-04-13.pkl\n",
      "Loaded: 2018-04-14.pkl\n",
      "Loaded: 2018-04-15.pkl\n",
      "Loaded: 2018-04-16.pkl\n",
      "Loaded: 2018-04-17.pkl\n",
      "Loaded: 2018-04-18.pkl\n",
      "Loaded: 2018-04-19.pkl\n",
      "Loaded: 2018-04-20.pkl\n",
      "Loaded: 2018-04-21.pkl\n",
      "Loaded: 2018-04-22.pkl\n",
      "Loaded: 2018-04-23.pkl\n",
      "Loaded: 2018-04-24.pkl\n",
      "Loaded: 2018-04-25.pkl\n",
      "Loaded: 2018-04-26.pkl\n",
      "Loaded: 2018-04-27.pkl\n",
      "Loaded: 2018-04-28.pkl\n",
      "Loaded: 2018-04-29.pkl\n",
      "Loaded: 2018-04-30.pkl\n",
      "Loaded: 2018-05-01.pkl\n",
      "Loaded: 2018-05-02.pkl\n",
      "Loaded: 2018-05-03.pkl\n",
      "Loaded: 2018-05-04.pkl\n",
      "Loaded: 2018-05-05.pkl\n",
      "Loaded: 2018-05-06.pkl\n",
      "Loaded: 2018-05-07.pkl\n",
      "Loaded: 2018-05-08.pkl\n",
      "Loaded: 2018-05-09.pkl\n",
      "Loaded: 2018-05-10.pkl\n",
      "Loaded: 2018-05-11.pkl\n",
      "Loaded: 2018-05-12.pkl\n",
      "Loaded: 2018-05-13.pkl\n",
      "Loaded: 2018-05-14.pkl\n",
      "Loaded: 2018-05-15.pkl\n",
      "Loaded: 2018-05-16.pkl\n",
      "Loaded: 2018-05-17.pkl\n",
      "Loaded: 2018-05-18.pkl\n",
      "Loaded: 2018-05-19.pkl\n",
      "Loaded: 2018-05-20.pkl\n",
      "Loaded: 2018-05-21.pkl\n",
      "Loaded: 2018-05-22.pkl\n",
      "Loaded: 2018-05-23.pkl\n",
      "Loaded: 2018-05-24.pkl\n",
      "Loaded: 2018-05-25.pkl\n",
      "Loaded: 2018-05-26.pkl\n",
      "Loaded: 2018-05-27.pkl\n",
      "Loaded: 2018-05-28.pkl\n",
      "Loaded: 2018-05-29.pkl\n",
      "Loaded: 2018-05-30.pkl\n",
      "Loaded: 2018-05-31.pkl\n",
      "Loaded: 2018-06-01.pkl\n",
      "Loaded: 2018-06-02.pkl\n",
      "Loaded: 2018-06-03.pkl\n",
      "Loaded: 2018-06-04.pkl\n",
      "Loaded: 2018-06-05.pkl\n",
      "Loaded: 2018-06-06.pkl\n",
      "Loaded: 2018-06-07.pkl\n",
      "Loaded: 2018-06-08.pkl\n",
      "Loaded: 2018-06-09.pkl\n",
      "Loaded: 2018-06-10.pkl\n",
      "Loaded: 2018-06-11.pkl\n",
      "Loaded: 2018-06-12.pkl\n",
      "Loaded: 2018-06-13.pkl\n",
      "Loaded: 2018-06-14.pkl\n",
      "Loaded: 2018-06-15.pkl\n",
      "Loaded: 2018-06-16.pkl\n",
      "Loaded: 2018-06-17.pkl\n",
      "Loaded: 2018-06-18.pkl\n",
      "Loaded: 2018-06-19.pkl\n",
      "Loaded: 2018-06-20.pkl\n",
      "Loaded: 2018-06-21.pkl\n",
      "Loaded: 2018-06-22.pkl\n",
      "Loaded: 2018-06-23.pkl\n",
      "Loaded: 2018-06-24.pkl\n",
      "Loaded: 2018-06-25.pkl\n",
      "Loaded: 2018-06-26.pkl\n",
      "Loaded: 2018-06-27.pkl\n",
      "Loaded: 2018-06-28.pkl\n",
      "Loaded: 2018-06-29.pkl\n",
      "Loaded: 2018-06-30.pkl\n",
      "Loaded: 2018-07-01.pkl\n",
      "Loaded: 2018-07-02.pkl\n",
      "Loaded: 2018-07-03.pkl\n",
      "Loaded: 2018-07-04.pkl\n",
      "Loaded: 2018-07-05.pkl\n",
      "Loaded: 2018-07-06.pkl\n",
      "Loaded: 2018-07-07.pkl\n",
      "Loaded: 2018-07-08.pkl\n",
      "Loaded: 2018-07-09.pkl\n",
      "Loaded: 2018-07-10.pkl\n",
      "Loaded: 2018-07-11.pkl\n",
      "Loaded: 2018-07-12.pkl\n",
      "Loaded: 2018-07-13.pkl\n",
      "Loaded: 2018-07-14.pkl\n",
      "Loaded: 2018-07-15.pkl\n",
      "Loaded: 2018-07-16.pkl\n",
      "Loaded: 2018-07-17.pkl\n",
      "Loaded: 2018-07-18.pkl\n",
      "Loaded: 2018-07-19.pkl\n",
      "Loaded: 2018-07-20.pkl\n",
      "Loaded: 2018-07-21.pkl\n",
      "Loaded: 2018-07-22.pkl\n",
      "Loaded: 2018-07-23.pkl\n",
      "Loaded: 2018-07-24.pkl\n",
      "Loaded: 2018-07-25.pkl\n",
      "Loaded: 2018-07-26.pkl\n",
      "Loaded: 2018-07-27.pkl\n",
      "Loaded: 2018-07-28.pkl\n",
      "Loaded: 2018-07-29.pkl\n",
      "Loaded: 2018-07-30.pkl\n",
      "Loaded: 2018-07-31.pkl\n",
      "Loaded: 2018-08-01.pkl\n",
      "Loaded: 2018-08-02.pkl\n",
      "Loaded: 2018-08-03.pkl\n",
      "Loaded: 2018-08-04.pkl\n",
      "Loaded: 2018-08-05.pkl\n",
      "Loaded: 2018-08-06.pkl\n",
      "Loaded: 2018-08-07.pkl\n",
      "Loaded: 2018-08-08.pkl\n",
      "Loaded: 2018-08-09.pkl\n",
      "Loaded: 2018-08-10.pkl\n",
      "Loaded: 2018-08-11.pkl\n",
      "Loaded: 2018-08-12.pkl\n",
      "Loaded: 2018-08-13.pkl\n",
      "Loaded: 2018-08-14.pkl\n",
      "Loaded: 2018-08-15.pkl\n",
      "Loaded: 2018-08-16.pkl\n",
      "Loaded: 2018-08-17.pkl\n",
      "Loaded: 2018-08-18.pkl\n",
      "Loaded: 2018-08-19.pkl\n",
      "Loaded: 2018-08-20.pkl\n",
      "Loaded: 2018-08-21.pkl\n",
      "Loaded: 2018-08-22.pkl\n",
      "Loaded: 2018-08-23.pkl\n",
      "Loaded: 2018-08-24.pkl\n",
      "Loaded: 2018-08-25.pkl\n",
      "Loaded: 2018-08-26.pkl\n",
      "Loaded: 2018-08-27.pkl\n",
      "Loaded: 2018-08-28.pkl\n",
      "Loaded: 2018-08-29.pkl\n",
      "Loaded: 2018-08-30.pkl\n",
      "Loaded: 2018-08-31.pkl\n",
      "Loaded: 2018-09-01.pkl\n",
      "Loaded: 2018-09-02.pkl\n",
      "Loaded: 2018-09-03.pkl\n",
      "Loaded: 2018-09-04.pkl\n",
      "Loaded: 2018-09-05.pkl\n",
      "Loaded: 2018-09-06.pkl\n",
      "Loaded: 2018-09-07.pkl\n",
      "Loaded: 2018-09-08.pkl\n",
      "Loaded: 2018-09-09.pkl\n",
      "Loaded: 2018-09-10.pkl\n",
      "Loaded: 2018-09-11.pkl\n",
      "Loaded: 2018-09-12.pkl\n",
      "Loaded: 2018-09-13.pkl\n",
      "Loaded: 2018-09-14.pkl\n",
      "Loaded: 2018-09-15.pkl\n",
      "Loaded: 2018-09-16.pkl\n",
      "Loaded: 2018-09-17.pkl\n",
      "Loaded: 2018-09-18.pkl\n",
      "Loaded: 2018-09-19.pkl\n",
      "Loaded: 2018-09-20.pkl\n",
      "Loaded: 2018-09-21.pkl\n",
      "Loaded: 2018-09-22.pkl\n",
      "Loaded: 2018-09-23.pkl\n",
      "Loaded: 2018-09-24.pkl\n",
      "Loaded: 2018-09-25.pkl\n",
      "Loaded: 2018-09-26.pkl\n",
      "Loaded: 2018-09-27.pkl\n",
      "Loaded: 2018-09-28.pkl\n",
      "Loaded: 2018-09-29.pkl\n",
      "Loaded: 2018-09-30.pkl\n"
     ]
    }
   ],
   "source": [
    "dfs = load_data(data_folder)\n"
   ]
  },
  {
   "cell_type": "code",
   "execution_count": 5,
   "metadata": {},
   "outputs": [
    {
     "name": "stdout",
     "output_type": "stream",
     "text": [
      "All dataframes concatenated.\n"
     ]
    }
   ],
   "source": [
    "if dfs:  # Check if any DataFrames were loaded\n",
    "    df = pd.concat(dfs, ignore_index=True)\n",
    "    print(\"All dataframes concatenated.\")\n",
    "else:\n",
    "    print(\"No dataframes loaded. Check the folder path and file types.\")\n",
    "    exit() "
   ]
  },
  {
   "cell_type": "code",
   "execution_count": 6,
   "metadata": {},
   "outputs": [
    {
     "name": "stdout",
     "output_type": "stream",
     "text": [
      "   TRANSACTION_ID         TX_DATETIME CUSTOMER_ID TERMINAL_ID  TX_AMOUNT  \\\n",
      "0               0 2018-04-01 00:00:31         596        3156      57.16   \n",
      "1               1 2018-04-01 00:02:10        4961        3412      81.51   \n",
      "2               2 2018-04-01 00:07:56           2        1365     146.00   \n",
      "3               3 2018-04-01 00:09:29        4128        8737      64.49   \n",
      "4               4 2018-04-01 00:10:34         927        9906      50.99   \n",
      "\n",
      "  TX_TIME_SECONDS TX_TIME_DAYS  TX_FRAUD  TX_FRAUD_SCENARIO  \n",
      "0              31            0         0                  0  \n",
      "1             130            0         0                  0  \n",
      "2             476            0         0                  0  \n",
      "3             569            0         0                  0  \n",
      "4             634            0         0                  0  \n"
     ]
    }
   ],
   "source": [
    "print(df.head())\n"
   ]
  },
  {
   "cell_type": "code",
   "execution_count": 7,
   "metadata": {},
   "outputs": [],
   "source": [
    "\n",
    "# Convert TX_DATETIME to datetime objects (handle potential errors)\n",
    "try:\n",
    "    df['TX_DATETIME'] = pd.to_datetime(df['TX_DATETIME'])\n",
    "except KeyError:\n",
    "    print(\"Error: 'TX_DATETIME' column not found.  Please check your data.\")\n",
    "    exit()\n",
    "except ValueError as e:\n",
    "    print(f\"Error converting 'TX_DATETIME' to datetime: {e}\")\n",
    "    print(\"Please ensure the date format is consistent and recognizable.\")\n",
    "    exit()"
   ]
  },
  {
   "cell_type": "code",
   "execution_count": 8,
   "metadata": {},
   "outputs": [],
   "source": [
    "# Feature Engineering\n",
    "# 1. Transaction Amount Flag\n",
    "df['amount_over_220'] = (df['TX_AMOUNT'] > 220).astype(int)"
   ]
  },
  {
   "cell_type": "code",
   "execution_count": 9,
   "metadata": {},
   "outputs": [],
   "source": [
    "# 2. Time-based Features\n",
    "df['hour'] = df['TX_DATETIME'].dt.hour\n",
    "df['day_of_week'] = df['TX_DATETIME'].dt.dayofweek  # Monday=0, Sunday=6\n",
    "df['month'] = df['TX_DATETIME'].dt.month\n",
    "\n",
    "# 3. Customer Spending Habits (Example: Average Transaction Amount)\n",
    "# Calculate customer's average transaction amount\n",
    "customer_avg = df.groupby('CUSTOMER_ID')['TX_AMOUNT'].mean().reset_index()\n",
    "customer_avg.rename(columns={'TX_AMOUNT': 'avg_transaction_amount'}, inplace=True)\n",
    "df = pd.merge(df, customer_avg, on='CUSTOMER_ID', how='left')\n",
    "\n",
    "# Calculate the ratio of the current transaction amount to the customer's average transaction amount\n",
    "df['amount_ratio_to_avg'] = df['TX_AMOUNT'] / df['avg_transaction_amount']"
   ]
  },
  {
   "cell_type": "code",
   "execution_count": 10,
   "metadata": {},
   "outputs": [],
   "source": [
    "# Handle potential division by zero or NaN values:  Important!\n",
    "df['amount_ratio_to_avg'] = df['amount_ratio_to_avg'].replace([np.inf, -np.inf], np.nan)  # Replace infinite values\n",
    "df['amount_ratio_to_avg'] = df['amount_ratio_to_avg'].fillna(1)  # Replace NaN with 1 (assuming the transaction amount is equal to the avg)\n",
    "\n",
    "# 4. Terminal Fraud Count (Example) - You might need more historical data for this in a real application\n",
    "terminal_fraud_counts = df.groupby('TERMINAL_ID')['TX_FRAUD'].sum().reset_index()\n",
    "terminal_fraud_counts.rename(columns={'TX_FRAUD': 'terminal_fraud_count'}, inplace=True)\n",
    "df = pd.merge(df, terminal_fraud_counts, on='TERMINAL_ID', how='left')\n",
    "df['terminal_fraud_count'] = df['terminal_fraud_count'].fillna(0)"
   ]
  },
  {
   "cell_type": "code",
   "execution_count": 11,
   "metadata": {},
   "outputs": [],
   "source": [
    "# Select Features\n",
    "features = ['TX_AMOUNT', 'amount_over_220', 'hour', 'day_of_week', 'avg_transaction_amount', 'amount_ratio_to_avg', 'terminal_fraud_count', 'month']  # Add more engineered features here\n",
    "target = 'TX_FRAUD'"
   ]
  },
  {
   "cell_type": "code",
   "execution_count": 12,
   "metadata": {},
   "outputs": [
    {
     "name": "stdout",
     "output_type": "stream",
     "text": [
      "Missing values before handling:\n",
      "TX_AMOUNT                 0\n",
      "amount_over_220           0\n",
      "hour                      0\n",
      "day_of_week               0\n",
      "avg_transaction_amount    0\n",
      "amount_ratio_to_avg       0\n",
      "terminal_fraud_count      0\n",
      "month                     0\n",
      "dtype: int64\n",
      "Missing values after handling:\n",
      "TX_AMOUNT                 0\n",
      "amount_over_220           0\n",
      "hour                      0\n",
      "day_of_week               0\n",
      "avg_transaction_amount    0\n",
      "amount_ratio_to_avg       0\n",
      "terminal_fraud_count      0\n",
      "month                     0\n",
      "dtype: int64\n"
     ]
    }
   ],
   "source": [
    "# Handle missing values\n",
    "print(f\"Missing values before handling:\\n{df[features].isnull().sum()}\") #Check for missing values BEFORE imputing\n",
    "df[features] = df[features].fillna(df[features].mean()) # Use mean imputation for numerical features (handle categorical appropriately)\n",
    "print(f\"Missing values after handling:\\n{df[features].isnull().sum()}\")# Verify if the missing values are handled"
   ]
  },
  {
   "cell_type": "code",
   "execution_count": 13,
   "metadata": {},
   "outputs": [],
   "source": [
    "X = df[features]\n",
    "y = df[target]"
   ]
  },
  {
   "cell_type": "code",
   "execution_count": 14,
   "metadata": {},
   "outputs": [],
   "source": [
    "# Data Scaling\n",
    "scaler = StandardScaler()\n",
    "X = scaler.fit_transform(X)"
   ]
  },
  {
   "cell_type": "code",
   "execution_count": 15,
   "metadata": {},
   "outputs": [],
   "source": [
    "# Split data into training and testing sets\n",
    "X_train, X_test, y_train, y_test = train_test_split(X, y, test_size=0.2,random_state=42, stratify=y)"
   ]
  },
  {
   "cell_type": "code",
   "execution_count": 16,
   "metadata": {},
   "outputs": [
    {
     "name": "stdout",
     "output_type": "stream",
     "text": [
      "Data split into training and testing sets.\n"
     ]
    }
   ],
   "source": [
    "print(\"Data split into training and testing sets.\")\n"
   ]
  },
  {
   "cell_type": "code",
   "execution_count": 17,
   "metadata": {},
   "outputs": [
    {
     "name": "stdout",
     "output_type": "stream",
     "text": [
      "Original class distribution:\n",
      "0    1391579\n",
      "1      11745\n",
      "Name: TX_FRAUD, dtype: int64\n",
      "Resampled class distribution (after SMOTE):\n",
      "1    1391579\n",
      "0    1391579\n",
      "Name: TX_FRAUD, dtype: int64\n"
     ]
    }
   ],
   "source": [
    "# Handle Class Imbalance with SMOTE (Oversampling)\n",
    "print(\"Original class distribution:\")\n",
    "print(y_train.value_counts())\n",
    "\n",
    "smote = SMOTE(random_state=42)\n",
    "X_train_resampled, y_train_resampled = smote.fit_resample(X_train, y_train)\n",
    "\n",
    "print(\"Resampled class distribution (after SMOTE):\")\n",
    "print(y_train_resampled.value_counts())"
   ]
  },
  {
   "cell_type": "code",
   "execution_count": 18,
   "metadata": {},
   "outputs": [],
   "source": [
    "# Model Training (Logistic Regression)\n",
    "model = LogisticRegression(random_state=42, solver='liblinear', class_weight='balanced') "
   ]
  },
  {
   "cell_type": "code",
   "execution_count": 19,
   "metadata": {},
   "outputs": [
    {
     "name": "stdout",
     "output_type": "stream",
     "text": [
      "Cross-validation ROC AUC scores: [0.97774971 0.9778153  0.97778617 0.97808764 0.97784802]\n",
      "Mean cross-validation ROC AUC score: 0.9778573655351345\n"
     ]
    }
   ],
   "source": [
    "# Cross-validation \n",
    "cv = StratifiedKFold(n_splits=5, shuffle=True, random_state=42)\n",
    "cv_scores = cross_val_score(model, X_train_resampled, y_train_resampled, cv=cv, scoring='roc_auc')\n",
    "print(f\"Cross-validation ROC AUC scores: {cv_scores}\")\n",
    "print(f\"Mean cross-validation ROC AUC score: {cv_scores.mean()}\")"
   ]
  },
  {
   "cell_type": "code",
   "execution_count": 20,
   "metadata": {},
   "outputs": [
    {
     "data": {
      "text/plain": [
       "LogisticRegression(class_weight='balanced', random_state=42, solver='liblinear')"
      ]
     },
     "execution_count": 20,
     "metadata": {},
     "output_type": "execute_result"
    }
   ],
   "source": [
    "# Train the model on the resampled training data\n",
    "model.fit(X_train_resampled, y_train_resampled)"
   ]
  },
  {
   "cell_type": "code",
   "execution_count": 21,
   "metadata": {},
   "outputs": [],
   "source": [
    "# Model Evaluation\n",
    "y_pred = model.predict(X_test)\n",
    "y_prob = model.predict_proba(X_test)[:, 1]  # Probabilities for the positive class"
   ]
  },
  {
   "cell_type": "code",
   "execution_count": 22,
   "metadata": {},
   "outputs": [
    {
     "name": "stdout",
     "output_type": "stream",
     "text": [
      "Model Evaluation:\n",
      "[[337492  10403]\n",
      " [   192   2744]]\n",
      "              precision    recall  f1-score   support\n",
      "\n",
      "           0       1.00      0.97      0.98    347895\n",
      "           1       0.21      0.93      0.34      2936\n",
      "\n",
      "    accuracy                           0.97    350831\n",
      "   macro avg       0.60      0.95      0.66    350831\n",
      "weighted avg       0.99      0.97      0.98    350831\n",
      "\n",
      "ROC AUC Score: 0.9768368668268907\n"
     ]
    }
   ],
   "source": [
    "print(\"Model Evaluation:\")\n",
    "print(confusion_matrix(y_test, y_pred))\n",
    "print(classification_report(y_test, y_pred))\n",
    "print(f\"ROC AUC Score: {roc_auc_score(y_test, y_prob)}\")"
   ]
  },
  {
   "cell_type": "code",
   "execution_count": 23,
   "metadata": {},
   "outputs": [],
   "source": [
    "# Feature Importance (Logistic Regression)\n",
    "coefficients = model.coef_[0]\n",
    "feature_importance_df = pd.DataFrame({'Feature': features, 'Coefficient': coefficients})\n",
    "feature_importance_df['Importance'] = np.abs(feature_importance_df['Coefficient'])\n",
    "feature_importance_df = feature_importance_df.sort_values('Importance', ascending=False)\n"
   ]
  },
  {
   "cell_type": "code",
   "execution_count": 24,
   "metadata": {},
   "outputs": [
    {
     "name": "stdout",
     "output_type": "stream",
     "text": [
      "\n",
      "Feature Importance (Logistic Regression):\n",
      "                  Feature  Coefficient  Importance\n",
      "6    terminal_fraud_count     1.386794    1.386794\n",
      "5     amount_ratio_to_avg     1.160946    1.160946\n",
      "1         amount_over_220     0.444798    0.444798\n",
      "0               TX_AMOUNT    -0.324344    0.324344\n",
      "4  avg_transaction_amount     0.220212    0.220212\n",
      "7                   month     0.208015    0.208015\n",
      "2                    hour     0.020214    0.020214\n",
      "3             day_of_week    -0.007176    0.007176\n"
     ]
    }
   ],
   "source": [
    "print(\"\\nFeature Importance (Logistic Regression):\")\n",
    "print(feature_importance_df)\n"
   ]
  },
  {
   "cell_type": "code",
   "execution_count": 25,
   "metadata": {},
   "outputs": [],
   "source": [
    "# Precision-Recall Curve\n",
    "precision, recall, thresholds = precision_recall_curve(y_test, y_prob)\n",
    "pr_auc = auc(recall, precision)"
   ]
  },
  {
   "cell_type": "code",
   "execution_count": 26,
   "metadata": {},
   "outputs": [
    {
     "data": {
      "image/png": "[encoded data removed]",
      "text/plain": [
       "<Figure size 800x600 with 1 Axes>"
      ]
     },
     "metadata": {},
     "output_type": "display_data"
    }
   ],
   "source": [
    "plt.figure(figsize=(8, 6))\n",
    "plt.plot(recall, precision, label=f'Precision-Recall curve (AUC = {pr_auc:.2f})')\n",
    "plt.xlabel('Recall')\n",
    "plt.ylabel('Precision')\n",
    "plt.title('Precision-Recall Curve')\n",
    "plt.legend()\n",
    "plt.show()"
   ]
  },
  {
   "cell_type": "code",
   "execution_count": 27,
   "metadata": {},
   "outputs": [],
   "source": [
    "from sklearn.ensemble import RandomForestClassifier\n"
   ]
  },
  {
   "cell_type": "code",
   "execution_count": 28,
   "metadata": {},
   "outputs": [
    {
     "data": {
      "text/plain": [
       "RandomForestClassifier(class_weight='balanced', random_state=42)"
      ]
     },
     "execution_count": 28,
     "metadata": {},
     "output_type": "execute_result"
    }
   ],
   "source": [
    "rf_model = RandomForestClassifier(random_state=42, class_weight='balanced')\n",
    "rf_model.fit(X_train_resampled, y_train_resampled)\n",
    "\n"
   ]
  },
  {
   "cell_type": "code",
   "execution_count": 29,
   "metadata": {},
   "outputs": [],
   "source": [
    "# Random Forest Feature Importance\n",
    "rf_feature_importance = rf_model.feature_importances_\n",
    "rf_feature_importance_df = pd.DataFrame({'Feature': features, 'Importance': rf_feature_importance})\n",
    "rf_feature_importance_df = rf_feature_importance_df.sort_values('Importance', ascending=False)\n"
   ]
  },
  {
   "cell_type": "code",
   "execution_count": 30,
   "metadata": {},
   "outputs": [
    {
     "name": "stdout",
     "output_type": "stream",
     "text": [
      "\n",
      "Random Forest Feature Importance:\n",
      "                  Feature  Importance\n",
      "6    terminal_fraud_count    0.666021\n",
      "5     amount_ratio_to_avg    0.135693\n",
      "0               TX_AMOUNT    0.054421\n",
      "1         amount_over_220    0.044491\n",
      "7                   month    0.031281\n",
      "3             day_of_week    0.028028\n",
      "2                    hour    0.022411\n",
      "4  avg_transaction_amount    0.017654\n"
     ]
    }
   ],
   "source": [
    "print(\"\\nRandom Forest Feature Importance:\")\n",
    "print(rf_feature_importance_df)\n"
   ]
  },
  {
   "cell_type": "code",
   "execution_count": 33,
   "metadata": {},
   "outputs": [
    {
     "data": {
      "image/png": "[encoded data removed]",
      "text/plain": [
       "<Figure size 1000x600 with 1 Axes>"
      ]
     },
     "metadata": {},
     "output_type": "display_data"
    }
   ],
   "source": [
    "# Plotting Random Forest Feature Importance\n",
    "plt.figure(figsize=(10, 6))\n",
    "sns.barplot(x='Importance', y='Feature', data=rf_feature_importance_df, color='skyblue')\n",
    "plt.title('Random Forest - Feature Importance')\n",
    "plt.xlabel('Importance')\n",
    "plt.ylabel('Feature')\n",
    "plt.tight_layout()\n",
    "plt.show()\n"
   ]
  },
  {
   "cell_type": "code",
   "execution_count": null,
   "metadata": {},
   "outputs": [],
   "source": []
  }
 ],
 "metadata": {
  "kernelspec": {
   "display_name": "frauddetection",
   "language": "python",
   "name": "python3"
  },
  "language_info": {
   "codemirror_mode": {
    "name": "ipython",
    "version": 3
   },
   "file_extension": ".py",
   "mimetype": "text/x-python",
   "name": "python",
   "nbconvert_exporter": "python",
   "pygments_lexer": "ipython3",
   "version": "3.7.16"
  }
 },
 "nbformat": 4,
 "nbformat_minor": 2
}
